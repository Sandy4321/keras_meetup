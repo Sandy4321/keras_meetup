{
 "cells": [
  {
   "cell_type": "markdown",
   "metadata": {},
   "source": [
    "# Going Deeper\n",
    "\n",
    "*... is not always a good idea...*"
   ]
  },
  {
   "cell_type": "markdown",
   "metadata": {},
   "source": [
    "Deep Learning is all about **depth** so let's go deeper!!\n",
    "\n",
    "Start with the usual stuff:"
   ]
  },
  {
   "cell_type": "code",
   "execution_count": 2,
   "metadata": {},
   "outputs": [],
   "source": [
    "import keras\n",
    "import numpy as np\n",
    "import matplotlib.pyplot as plt\n",
    "from keras.datasets import mnist\n",
    "from keras.models import Sequential\n",
    "from keras.layers import Dense, Activation\n",
    "from keras.optimizers import Adam\n",
    "%matplotlib inline\n",
    "\n",
    "\n",
    "# Prepare the data\n",
    "(x_train, y_train), (x_test, y_test) = mnist.load_data()\n",
    "x_train = x_train.reshape((-1, 28*28)) / 255.0\n",
    "x_test = x_test.reshape((-1, 28*28)) / 255.0\n",
    "y_train = keras.utils.to_categorical(y_train, num_classes=10)\n",
    "y_test = keras.utils.to_categorical(y_test, num_classes=10)\n",
    "\n"
   ]
  },
  {
   "cell_type": "markdown",
   "metadata": {},
   "source": [
    "The previous 3-layer MLP achieved about 2.6% test error. Error rates for state-of-the-art models are below 0.5%, so let's go deeper (what could go wrong anyway?)"
   ]
  },
  {
   "cell_type": "code",
   "execution_count": 4,
   "metadata": {},
   "outputs": [],
   "source": [
    "model = Sequential()\n",
    "\n",
    "model.add(Dense(256, activation='relu', input_dim=784))\n",
    "model.add(Dense(256, activation='relu'))\n",
    "model.add(Dense(512, activation='relu'))\n",
    "model.add(Dense(512, activation='relu'))\n",
    "model.add(Dense(1024, activation='relu'))\n",
    "model.add(Dense(1024, activation='relu'))\n",
    "\n",
    "model.add(Dense(10, activation='softmax'))\n",
    "\n",
    "model.compile(loss='categorical_crossentropy', optimizer=Adam(lr=0.0001), metrics=['accuracy'])"
   ]
  },
  {
   "cell_type": "markdown",
   "metadata": {},
   "source": [
    "That is a deep one indeed! Let's examine its architecture!"
   ]
  },
  {
   "cell_type": "code",
   "execution_count": 5,
   "metadata": {},
   "outputs": [
    {
     "name": "stdout",
     "output_type": "stream",
     "text": [
      "_________________________________________________________________\n",
      "Layer (type)                 Output Shape              Param #   \n",
      "=================================================================\n",
      "dense_8 (Dense)              (None, 256)               200960    \n",
      "_________________________________________________________________\n",
      "dense_9 (Dense)              (None, 256)               65792     \n",
      "_________________________________________________________________\n",
      "dense_10 (Dense)             (None, 512)               131584    \n",
      "_________________________________________________________________\n",
      "dense_11 (Dense)             (None, 512)               262656    \n",
      "_________________________________________________________________\n",
      "dense_12 (Dense)             (None, 1024)              525312    \n",
      "_________________________________________________________________\n",
      "dense_13 (Dense)             (None, 1024)              1049600   \n",
      "_________________________________________________________________\n",
      "dense_14 (Dense)             (None, 10)                10250     \n",
      "=================================================================\n",
      "Total params: 2,246,154\n",
      "Trainable params: 2,246,154\n",
      "Non-trainable params: 0\n",
      "_________________________________________________________________\n"
     ]
    }
   ],
   "source": [
    "model.summary()"
   ]
  },
  {
   "cell_type": "markdown",
   "metadata": {},
   "source": [
    "Train the model:"
   ]
  },
  {
   "cell_type": "code",
   "execution_count": 6,
   "metadata": {},
   "outputs": [
    {
     "name": "stdout",
     "output_type": "stream",
     "text": [
      "Train on 60000 samples, validate on 10000 samples\n",
      "Epoch 1/50\n",
      " - 3s - loss: 0.6017 - acc: 0.8312 - val_loss: 0.2264 - val_acc: 0.9312\n",
      "Epoch 2/50\n",
      " - 2s - loss: 0.1834 - acc: 0.9463 - val_loss: 0.1502 - val_acc: 0.9558\n",
      "Epoch 3/50\n",
      " - 2s - loss: 0.1302 - acc: 0.9612 - val_loss: 0.1276 - val_acc: 0.9606\n",
      "Epoch 4/50\n",
      " - 2s - loss: 0.1031 - acc: 0.9692 - val_loss: 0.1096 - val_acc: 0.9647\n",
      "Epoch 5/50\n",
      " - 2s - loss: 0.0834 - acc: 0.9748 - val_loss: 0.1027 - val_acc: 0.9682\n",
      "Epoch 6/50\n",
      " - 2s - loss: 0.0651 - acc: 0.9805 - val_loss: 0.0973 - val_acc: 0.9706\n",
      "Epoch 7/50\n",
      " - 2s - loss: 0.0538 - acc: 0.9839 - val_loss: 0.0914 - val_acc: 0.9722\n",
      "Epoch 8/50\n",
      " - 2s - loss: 0.0441 - acc: 0.9868 - val_loss: 0.0969 - val_acc: 0.9713\n",
      "Epoch 9/50\n",
      " - 2s - loss: 0.0366 - acc: 0.9892 - val_loss: 0.0907 - val_acc: 0.9737\n",
      "Epoch 10/50\n",
      " - 2s - loss: 0.0301 - acc: 0.9910 - val_loss: 0.0902 - val_acc: 0.9742\n",
      "Epoch 11/50\n",
      " - 2s - loss: 0.0228 - acc: 0.9933 - val_loss: 0.0902 - val_acc: 0.9750\n",
      "Epoch 12/50\n",
      " - 2s - loss: 0.0201 - acc: 0.9936 - val_loss: 0.0925 - val_acc: 0.9750\n",
      "Epoch 13/50\n",
      " - 2s - loss: 0.0148 - acc: 0.9955 - val_loss: 0.0862 - val_acc: 0.9764\n",
      "Epoch 14/50\n",
      " - 2s - loss: 0.0109 - acc: 0.9970 - val_loss: 0.0938 - val_acc: 0.9759\n",
      "Epoch 15/50\n",
      " - 2s - loss: 0.0094 - acc: 0.9974 - val_loss: 0.0967 - val_acc: 0.9767\n",
      "Epoch 16/50\n",
      " - 2s - loss: 0.0112 - acc: 0.9965 - val_loss: 0.1092 - val_acc: 0.9739\n",
      "Epoch 17/50\n",
      " - 2s - loss: 0.0106 - acc: 0.9967 - val_loss: 0.1051 - val_acc: 0.9735\n",
      "Epoch 18/50\n",
      " - 2s - loss: 0.0073 - acc: 0.9979 - val_loss: 0.0980 - val_acc: 0.9769\n",
      "Epoch 19/50\n",
      " - 2s - loss: 0.0068 - acc: 0.9978 - val_loss: 0.1102 - val_acc: 0.9761\n",
      "Epoch 20/50\n",
      " - 2s - loss: 0.0030 - acc: 0.9993 - val_loss: 0.1090 - val_acc: 0.9768\n",
      "Epoch 21/50\n",
      " - 2s - loss: 0.0094 - acc: 0.9969 - val_loss: 0.1210 - val_acc: 0.9733\n",
      "Epoch 22/50\n",
      " - 2s - loss: 0.0052 - acc: 0.9985 - val_loss: 0.1061 - val_acc: 0.9778\n",
      "Epoch 23/50\n",
      " - 2s - loss: 0.0019 - acc: 0.9997 - val_loss: 0.1226 - val_acc: 0.9746\n",
      "Epoch 24/50\n",
      " - 2s - loss: 0.0120 - acc: 0.9958 - val_loss: 0.1191 - val_acc: 0.9752\n",
      "Epoch 25/50\n",
      " - 2s - loss: 0.0049 - acc: 0.9986 - val_loss: 0.1198 - val_acc: 0.9768\n",
      "Epoch 26/50\n",
      " - 2s - loss: 0.0026 - acc: 0.9995 - val_loss: 0.1066 - val_acc: 0.9780\n",
      "Epoch 27/50\n",
      " - 2s - loss: 0.0015 - acc: 0.9998 - val_loss: 0.1067 - val_acc: 0.9790\n",
      "Epoch 28/50\n",
      " - 2s - loss: 7.9091e-04 - acc: 0.9999 - val_loss: 0.1069 - val_acc: 0.9797\n",
      "Epoch 29/50\n",
      " - 2s - loss: 3.8321e-04 - acc: 1.0000 - val_loss: 0.1070 - val_acc: 0.9803\n",
      "Epoch 30/50\n",
      " - 2s - loss: 3.4829e-04 - acc: 1.0000 - val_loss: 0.1077 - val_acc: 0.9803\n",
      "Epoch 31/50\n",
      " - 2s - loss: 3.3220e-04 - acc: 1.0000 - val_loss: 0.1088 - val_acc: 0.9805\n",
      "Epoch 32/50\n",
      " - 2s - loss: 3.2198e-04 - acc: 1.0000 - val_loss: 0.1105 - val_acc: 0.9801\n",
      "Epoch 33/50\n",
      " - 2s - loss: 3.1488e-04 - acc: 1.0000 - val_loss: 0.1117 - val_acc: 0.9803\n",
      "Epoch 34/50\n",
      " - 2s - loss: 3.0750e-04 - acc: 1.0000 - val_loss: 0.1129 - val_acc: 0.9801\n",
      "Epoch 35/50\n",
      " - 2s - loss: 3.0250e-04 - acc: 1.0000 - val_loss: 0.1138 - val_acc: 0.9803\n",
      "Epoch 36/50\n",
      " - 2s - loss: 2.9778e-04 - acc: 1.0000 - val_loss: 0.1152 - val_acc: 0.9800\n",
      "Epoch 37/50\n",
      " - 2s - loss: 2.9410e-04 - acc: 1.0000 - val_loss: 0.1167 - val_acc: 0.9805\n",
      "Epoch 38/50\n",
      " - 2s - loss: 2.9098e-04 - acc: 1.0000 - val_loss: 0.1176 - val_acc: 0.9805\n",
      "Epoch 39/50\n",
      " - 2s - loss: 2.8823e-04 - acc: 1.0000 - val_loss: 0.1184 - val_acc: 0.9804\n",
      "Epoch 40/50\n",
      " - 2s - loss: 2.8589e-04 - acc: 1.0000 - val_loss: 0.1200 - val_acc: 0.9802\n",
      "Epoch 41/50\n",
      " - 2s - loss: 2.8361e-04 - acc: 1.0000 - val_loss: 0.1209 - val_acc: 0.9804\n",
      "Epoch 42/50\n",
      " - 2s - loss: 2.8183e-04 - acc: 1.0000 - val_loss: 0.1219 - val_acc: 0.9806\n",
      "Epoch 43/50\n",
      " - 2s - loss: 2.8029e-04 - acc: 1.0000 - val_loss: 0.1228 - val_acc: 0.9805\n",
      "Epoch 44/50\n",
      " - 2s - loss: 2.7903e-04 - acc: 1.0000 - val_loss: 0.1244 - val_acc: 0.9802\n",
      "Epoch 45/50\n",
      " - 2s - loss: 2.7768e-04 - acc: 1.0000 - val_loss: 0.1249 - val_acc: 0.9808\n",
      "Epoch 46/50\n",
      " - 2s - loss: 2.7666e-04 - acc: 1.0000 - val_loss: 0.1262 - val_acc: 0.9805\n",
      "Epoch 47/50\n",
      " - 2s - loss: 2.7565e-04 - acc: 1.0000 - val_loss: 0.1271 - val_acc: 0.9805\n",
      "Epoch 48/50\n",
      " - 2s - loss: 2.7487e-04 - acc: 1.0000 - val_loss: 0.1282 - val_acc: 0.9803\n",
      "Epoch 49/50\n",
      " - 2s - loss: 2.7415e-04 - acc: 1.0000 - val_loss: 0.1296 - val_acc: 0.9805\n",
      "Epoch 50/50\n",
      " - 2s - loss: 2.7349e-04 - acc: 1.0000 - val_loss: 0.1307 - val_acc: 0.9802\n"
     ]
    }
   ],
   "source": [
    "results = model.fit(x_train, y_train, epochs=50, batch_size=256, verbose=2, validation_data=(x_test, y_test))"
   ]
  },
  {
   "cell_type": "markdown",
   "metadata": {},
   "source": [
    "The network perfectly learns the training set (100% accuracy), but it is still below state-of-the-art (~1.9% test error). Let's examine the training curves:"
   ]
  },
  {
   "cell_type": "code",
   "execution_count": 7,
   "metadata": {},
   "outputs": [
    {
     "name": "stdout",
     "output_type": "stream",
     "text": [
      "Log data:  dict_keys(['val_loss', 'val_acc', 'loss', 'acc'])\n"
     ]
    },
    {
     "data": {
      "text/plain": [
       "<matplotlib.legend.Legend at 0x7f4a25fa2940>"
      ]
     },
     "execution_count": 7,
     "metadata": {},
     "output_type": "execute_result"
    },
    {
     "data": {
      "image/png": "[encoded data removed]",
      "text/plain": [
       "<matplotlib.figure.Figure at 0x7f4a0a4553c8>"
      ]
     },
     "metadata": {},
     "output_type": "display_data"
    },
    {
     "data": {
      "image/png": "[encoded data removed]",
      "text/plain": [
       "<matplotlib.figure.Figure at 0x7f4a09980390>"
      ]
     },
     "metadata": {},
     "output_type": "display_data"
    }
   ],
   "source": [
    "print(\"Log data: \", results.history.keys())\n",
    "\n",
    "plt.figure(1)\n",
    "plt.plot(results.history['loss'])\n",
    "plt.plot(results.history['val_loss'])\n",
    "plt.legend(['train loss', 'test loss'])\n",
    "\n",
    "plt.figure(2)\n",
    "plt.plot(results.history['acc'])\n",
    "plt.plot(results.history['val_acc'])\n",
    "plt.legend(['train acc', ' acc'])"
   ]
  },
  {
   "cell_type": "markdown",
   "metadata": {},
   "source": [
    "These results are not surprising. The model clearly overfits the data. In fact we are very lucky to be able to successfully train the model. Let's see what would happen a few years ago:"
   ]
  },
  {
   "cell_type": "code",
   "execution_count": 8,
   "metadata": {},
   "outputs": [
    {
     "name": "stdout",
     "output_type": "stream",
     "text": [
      "60000/60000 [==============================] - 1s 13us/step\n",
      "Train accuracy:  [2.302001472091675, 0.11236666666666667]\n",
      "10000/10000 [==============================] - 0s 13us/step\n",
      "Test accuracy:  [2.3020178985595705, 0.1135]\n"
     ]
    }
   ],
   "source": [
    "model = Sequential()\n",
    "\n",
    "model.add(Dense(256, activation='sigmoid', input_dim=784, kernel_initializer='random_uniform'))\n",
    "model.add(Dense(256, activation='sigmoid', kernel_initializer='random_uniform'))\n",
    "model.add(Dense(512, activation='sigmoid', kernel_initializer='random_uniform'))\n",
    "model.add(Dense(512, activation='sigmoid', kernel_initializer='random_uniform'))\n",
    "model.add(Dense(1024, activation='sigmoid', kernel_initializer='random_uniform'))\n",
    "model.add(Dense(1024, activation='sigmoid', kernel_initializer='random_uniform'))\n",
    "\n",
    "model.add(Dense(10, activation='softmax'))\n",
    "from keras.optimizers import SGD\n",
    "model.compile(loss='categorical_crossentropy', optimizer=SGD(lr=0.001, momentum=0.9), metrics=['accuracy'])\n",
    "\n",
    "results = model.fit(x_train, y_train, epochs=50, batch_size=256, verbose=0, validation_data=(x_test, y_test))\n",
    "print(\"Train accuracy: \", model.evaluate(x_train, y_train, batch_size=128))\n",
    "print(\"Test accuracy: \", model.evaluate(x_test, y_test, batch_size=128))"
   ]
  },
  {
   "cell_type": "code",
   "execution_count": 9,
   "metadata": {},
   "outputs": [
    {
     "data": {
      "text/plain": [
       "<matplotlib.legend.Legend at 0x7f4a260b6048>"
      ]
     },
     "execution_count": 9,
     "metadata": {},
     "output_type": "execute_result"
    },
    {
     "data": {
      "image/png": "[encoded data removed]",
      "text/plain": [
       "<matplotlib.figure.Figure at 0x7f4a0a455048>"
      ]
     },
     "metadata": {},
     "output_type": "display_data"
    }
   ],
   "source": [
    "plt.figure(1)\n",
    "plt.plot(results.history['loss'])\n",
    "plt.plot(results.history['val_loss'])\n",
    "plt.legend(['train loss', 'test loss'])"
   ]
  },
  {
   "cell_type": "markdown",
   "metadata": {},
   "source": [
    "Are we doing something wrong? Let's try a simpler model!"
   ]
  },
  {
   "cell_type": "code",
   "execution_count": 10,
   "metadata": {},
   "outputs": [
    {
     "name": "stdout",
     "output_type": "stream",
     "text": [
      "Train on 60000 samples, validate on 10000 samples\n",
      "Epoch 1/50\n",
      " - 1s - loss: 2.1668 - acc: 0.4233 - val_loss: 2.0026 - val_acc: 0.6701\n",
      "Epoch 2/50\n",
      " - 1s - loss: 1.8679 - acc: 0.6953 - val_loss: 1.7187 - val_acc: 0.7389\n",
      "Epoch 3/50\n",
      " - 1s - loss: 1.6047 - acc: 0.7427 - val_loss: 1.4692 - val_acc: 0.7696\n",
      "Epoch 4/50\n",
      " - 1s - loss: 1.3790 - acc: 0.7712 - val_loss: 1.2624 - val_acc: 0.7921\n",
      "Epoch 5/50\n",
      " - 1s - loss: 1.1960 - acc: 0.7930 - val_loss: 1.0993 - val_acc: 0.8116\n",
      "Epoch 6/50\n",
      " - 1s - loss: 1.0531 - acc: 0.8085 - val_loss: 0.9735 - val_acc: 0.8201\n",
      "Epoch 7/50\n",
      " - 1s - loss: 0.9430 - acc: 0.8205 - val_loss: 0.8767 - val_acc: 0.8330\n",
      "Epoch 8/50\n",
      " - 1s - loss: 0.8576 - acc: 0.8313 - val_loss: 0.8010 - val_acc: 0.8404\n",
      "Epoch 9/50\n",
      " - 1s - loss: 0.7902 - acc: 0.8380 - val_loss: 0.7410 - val_acc: 0.8497\n",
      "Epoch 10/50\n",
      " - 1s - loss: 0.7362 - acc: 0.8444 - val_loss: 0.6923 - val_acc: 0.8536\n",
      "Epoch 11/50\n",
      " - 1s - loss: 0.6922 - acc: 0.8502 - val_loss: 0.6520 - val_acc: 0.8613\n",
      "Epoch 12/50\n",
      " - 1s - loss: 0.6557 - acc: 0.8547 - val_loss: 0.6192 - val_acc: 0.8644\n",
      "Epoch 13/50\n",
      " - 1s - loss: 0.6250 - acc: 0.8582 - val_loss: 0.5907 - val_acc: 0.8697\n",
      "Epoch 14/50\n",
      " - 1s - loss: 0.5988 - acc: 0.8618 - val_loss: 0.5665 - val_acc: 0.8734\n",
      "Epoch 15/50\n",
      " - 1s - loss: 0.5762 - acc: 0.8649 - val_loss: 0.5454 - val_acc: 0.8764\n",
      "Epoch 16/50\n",
      " - 1s - loss: 0.5565 - acc: 0.8676 - val_loss: 0.5272 - val_acc: 0.8781\n",
      "Epoch 17/50\n",
      " - 1s - loss: 0.5392 - acc: 0.8693 - val_loss: 0.5115 - val_acc: 0.8804\n",
      "Epoch 18/50\n",
      " - 1s - loss: 0.5238 - acc: 0.8718 - val_loss: 0.4968 - val_acc: 0.8816\n",
      "Epoch 19/50\n",
      " - 1s - loss: 0.5103 - acc: 0.8732 - val_loss: 0.4839 - val_acc: 0.8831\n",
      "Epoch 20/50\n",
      " - 1s - loss: 0.4980 - acc: 0.8754 - val_loss: 0.4724 - val_acc: 0.8842\n",
      "Epoch 21/50\n",
      " - 1s - loss: 0.4869 - acc: 0.8770 - val_loss: 0.4621 - val_acc: 0.8859\n",
      "Epoch 22/50\n",
      " - 1s - loss: 0.4768 - acc: 0.8787 - val_loss: 0.4525 - val_acc: 0.8873\n",
      "Epoch 23/50\n",
      " - 1s - loss: 0.4677 - acc: 0.8802 - val_loss: 0.4438 - val_acc: 0.8889\n",
      "Epoch 24/50\n",
      " - 1s - loss: 0.4593 - acc: 0.8815 - val_loss: 0.4361 - val_acc: 0.8889\n",
      "Epoch 25/50\n",
      " - 1s - loss: 0.4516 - acc: 0.8825 - val_loss: 0.4287 - val_acc: 0.8901\n",
      "Epoch 26/50\n",
      " - 1s - loss: 0.4445 - acc: 0.8836 - val_loss: 0.4221 - val_acc: 0.8909\n",
      "Epoch 27/50\n",
      " - 1s - loss: 0.4380 - acc: 0.8849 - val_loss: 0.4161 - val_acc: 0.8924\n",
      "Epoch 28/50\n",
      " - 1s - loss: 0.4319 - acc: 0.8858 - val_loss: 0.4102 - val_acc: 0.8929\n",
      "Epoch 29/50\n",
      " - 1s - loss: 0.4262 - acc: 0.8869 - val_loss: 0.4049 - val_acc: 0.8939\n",
      "Epoch 30/50\n",
      " - 1s - loss: 0.4210 - acc: 0.8879 - val_loss: 0.3996 - val_acc: 0.8944\n",
      "Epoch 31/50\n",
      " - 1s - loss: 0.4160 - acc: 0.8888 - val_loss: 0.3951 - val_acc: 0.8951\n",
      "Epoch 32/50\n",
      " - 1s - loss: 0.4114 - acc: 0.8895 - val_loss: 0.3909 - val_acc: 0.8955\n",
      "Epoch 33/50\n",
      " - 1s - loss: 0.4070 - acc: 0.8904 - val_loss: 0.3866 - val_acc: 0.8963\n",
      "Epoch 34/50\n",
      " - 1s - loss: 0.4029 - acc: 0.8913 - val_loss: 0.3828 - val_acc: 0.8969\n",
      "Epoch 35/50\n",
      " - 1s - loss: 0.3991 - acc: 0.8919 - val_loss: 0.3791 - val_acc: 0.8981\n",
      "Epoch 36/50\n",
      " - 1s - loss: 0.3954 - acc: 0.8921 - val_loss: 0.3757 - val_acc: 0.8981\n",
      "Epoch 37/50\n",
      " - 1s - loss: 0.3919 - acc: 0.8933 - val_loss: 0.3727 - val_acc: 0.8986\n",
      "Epoch 38/50\n",
      " - 1s - loss: 0.3886 - acc: 0.8936 - val_loss: 0.3694 - val_acc: 0.8988\n",
      "Epoch 39/50\n",
      " - 1s - loss: 0.3855 - acc: 0.8942 - val_loss: 0.3666 - val_acc: 0.8989\n",
      "Epoch 40/50\n",
      " - 1s - loss: 0.3825 - acc: 0.8951 - val_loss: 0.3638 - val_acc: 0.8992\n",
      "Epoch 41/50\n",
      " - 1s - loss: 0.3797 - acc: 0.8953 - val_loss: 0.3613 - val_acc: 0.9000\n",
      "Epoch 42/50\n",
      " - 1s - loss: 0.3770 - acc: 0.8960 - val_loss: 0.3589 - val_acc: 0.9004\n",
      "Epoch 43/50\n",
      " - 1s - loss: 0.3745 - acc: 0.8961 - val_loss: 0.3560 - val_acc: 0.9010\n",
      "Epoch 44/50\n",
      " - 1s - loss: 0.3720 - acc: 0.8967 - val_loss: 0.3540 - val_acc: 0.9010\n",
      "Epoch 45/50\n",
      " - 1s - loss: 0.3696 - acc: 0.8968 - val_loss: 0.3517 - val_acc: 0.9023\n",
      "Epoch 46/50\n",
      " - 1s - loss: 0.3673 - acc: 0.8977 - val_loss: 0.3493 - val_acc: 0.9024\n",
      "Epoch 47/50\n",
      " - 1s - loss: 0.3651 - acc: 0.8976 - val_loss: 0.3476 - val_acc: 0.9032\n",
      "Epoch 48/50\n",
      " - 1s - loss: 0.3631 - acc: 0.8987 - val_loss: 0.3457 - val_acc: 0.9034\n",
      "Epoch 49/50\n",
      " - 1s - loss: 0.3611 - acc: 0.8988 - val_loss: 0.3438 - val_acc: 0.9038\n",
      "Epoch 50/50\n",
      " - 1s - loss: 0.3591 - acc: 0.8991 - val_loss: 0.3418 - val_acc: 0.9041\n",
      "60000/60000 [==============================] - 1s 11us/step\n",
      "Train accuracy:  [0.3579341185569763, 0.8997333333651225]\n",
      "10000/10000 [==============================] - 0s 12us/step\n",
      "Test accuracy:  [0.34183321018218993, 0.9041]\n"
     ]
    }
   ],
   "source": [
    "model = Sequential()\n",
    "\n",
    "model.add(Dense(256, activation='sigmoid', input_dim=784, kernel_initializer='random_uniform'))\n",
    "model.add(Dense(10, activation='softmax'))\n",
    "from keras.optimizers import SGD\n",
    "model.compile(loss='categorical_crossentropy', optimizer=SGD(lr=0.001, momentum=0.9), metrics=['accuracy'])\n",
    "\n",
    "results = model.fit(x_train, y_train, epochs=50, batch_size=256, verbose=2, validation_data=(x_test, y_test))\n",
    "print(\"Train accuracy: \", model.evaluate(x_train, y_train, batch_size=128))\n",
    "print(\"Test accuracy: \", model.evaluate(x_test, y_test, batch_size=128))"
   ]
  },
  {
   "cell_type": "code",
   "execution_count": 11,
   "metadata": {},
   "outputs": [
    {
     "data": {
      "text/plain": [
       "<matplotlib.legend.Legend at 0x7f4860f62da0>"
      ]
     },
     "execution_count": 11,
     "metadata": {},
     "output_type": "execute_result"
    },
    {
     "data": {
      "image/png": "[encoded data removed]",
      "text/plain": [
       "<matplotlib.figure.Figure at 0x7f4a26099eb8>"
      ]
     },
     "metadata": {},
     "output_type": "display_data"
    }
   ],
   "source": [
    "plt.figure(1)\n",
    "plt.plot(results.history['loss'])\n",
    "plt.plot(results.history['val_loss'])\n",
    "plt.legend(['train loss', 'test loss'])"
   ]
  },
  {
   "cell_type": "markdown",
   "metadata": {},
   "source": [
    "### So what makes deep learning work?\n",
    "\n",
    "Careful initialization + appropriate activation functions + weight sharing / smart architectures + regularization\n",
    "\n",
    "Tips:\n",
    "1. Ensure that a good initialization scheme is used (e.g., Xavier, He, etc. )\n",
    "2. Use an activation function that does not lead to vanishing gradients (e.g., relu, prelu, elu, ...)\n",
    "3. Use a regularized network structure (e.g., CNNs, residual connection, ...)\n",
    "4. Use regularization (e.g., dropout) and/or batch normalization\n",
    "5. Use an advanced optimizer (e.g., Adam, RMSProp, ...) (use them with a grain of salt)"
   ]
  }
 ],
 "metadata": {
  "kernelspec": {
   "display_name": "Python 3",
   "language": "python",
   "name": "python3"
  },
  "language_info": {
   "codemirror_mode": {
    "name": "ipython",
    "version": 3
   },
   "file_extension": ".py",
   "mimetype": "text/x-python",
   "name": "python",
   "nbconvert_exporter": "python",
   "pygments_lexer": "ipython3",
   "version": "3.6.3"
  }
 },
 "nbformat": 4,
 "nbformat_minor": 2
}
