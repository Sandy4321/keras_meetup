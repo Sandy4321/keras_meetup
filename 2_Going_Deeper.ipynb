{
 "cells": [
  {
   "cell_type": "markdown",
   "metadata": {},
   "source": [
    "# Going Deeper\n",
    "\n",
    "*... is not always a good idea...*"
   ]
  },
  {
   "cell_type": "markdown",
   "metadata": {},
   "source": [
    "Deep Learning is all about **depth** so let's go deeper (what could go wrong anyway?)!!!\n",
    "\n",
    "Start with the usual stuff:"
   ]
  },
  {
   "cell_type": "code",
   "execution_count": 2,
   "metadata": {},
   "outputs": [],
   "source": [
    "import keras\n",
    "import numpy as np\n",
    "import matplotlib.pyplot as plt\n",
    "from keras.datasets import mnist\n",
    "from keras.models import Sequential\n",
    "from keras.layers import Dense, Activation\n",
    "from keras.optimizers import Adam\n",
    "%matplotlib inline\n",
    "\n",
    "\n",
    "# Prepare the data\n",
    "(x_train, y_train), (x_test, y_test) = mnist.load_data()\n",
    "x_train = x_train.reshape((-1, 28*28)) / 255.0\n",
    "x_test = x_test.reshape((-1, 28*28)) / 255.0\n",
    "y_train = keras.utils.to_categorical(y_train, num_classes=10)\n",
    "y_test = keras.utils.to_categorical(y_test, num_classes=10)\n",
    "\n"
   ]
  },
  {
   "cell_type": "markdown",
   "metadata": {},
   "source": [
    "Let's see what would happen a few years ago:"
   ]
  },
  {
   "cell_type": "code",
   "execution_count": 3,
   "metadata": {},
   "outputs": [
    {
     "name": "stdout",
     "output_type": "stream",
     "text": [
      "60000/60000 [==============================] - 1s 12us/step\n",
      "Train accuracy:  [2.303395494333903, 0.11236666666666667]\n",
      "10000/10000 [==============================] - 0s 13us/step\n",
      "Test accuracy:  [2.3028136863708495, 0.1135]\n"
     ]
    }
   ],
   "source": [
    "model = Sequential()\n",
    "\n",
    "model.add(Dense(256, activation='sigmoid', input_dim=784, kernel_initializer='random_uniform'))\n",
    "model.add(Dense(256, activation='sigmoid', kernel_initializer='random_uniform'))\n",
    "model.add(Dense(512, activation='sigmoid', kernel_initializer='random_uniform'))\n",
    "model.add(Dense(512, activation='sigmoid', kernel_initializer='random_uniform'))\n",
    "model.add(Dense(1024, activation='sigmoid', kernel_initializer='random_uniform'))\n",
    "model.add(Dense(1024, activation='sigmoid', kernel_initializer='random_uniform'))\n",
    "\n",
    "model.add(Dense(10, activation='softmax'))\n",
    "from keras.optimizers import SGD\n",
    "model.compile(loss='categorical_crossentropy', optimizer=SGD(lr=0.001, momentum=0.9), metrics=['accuracy'])\n",
    "\n",
    "results = model.fit(x_train, y_train, epochs=50, batch_size=256, verbose=0, validation_data=(x_test, y_test))\n",
    "print(\"Train accuracy: \", model.evaluate(x_train, y_train, batch_size=128))\n",
    "print(\"Test accuracy: \", model.evaluate(x_test, y_test, batch_size=128))"
   ]
  },
  {
   "cell_type": "code",
   "execution_count": 4,
   "metadata": {},
   "outputs": [
    {
     "data": {
      "text/plain": [
       "<matplotlib.legend.Legend at 0x7ff29b316668>"
      ]
     },
     "execution_count": 4,
     "metadata": {},
     "output_type": "execute_result"
    },
    {
     "data": {
      "image/png": "[encoded data removed]",
      "text/plain": [
       "<matplotlib.figure.Figure at 0x7ff29dd24a90>"
      ]
     },
     "metadata": {},
     "output_type": "display_data"
    }
   ],
   "source": [
    "plt.figure(1)\n",
    "plt.plot(results.history['loss'])\n",
    "plt.plot(results.history['val_loss'])\n",
    "plt.legend(['train loss', 'test loss'])"
   ]
  },
  {
   "cell_type": "markdown",
   "metadata": {},
   "source": [
    "Are we doing something wrong? Let's try a simpler model!"
   ]
  },
  {
   "cell_type": "code",
   "execution_count": 5,
   "metadata": {},
   "outputs": [
    {
     "name": "stdout",
     "output_type": "stream",
     "text": [
      "Train on 60000 samples, validate on 10000 samples\n",
      "Epoch 1/50\n",
      " - 1s - loss: 2.1682 - acc: 0.4276 - val_loss: 1.9925 - val_acc: 0.6250\n",
      "Epoch 2/50\n",
      " - 1s - loss: 1.8564 - acc: 0.6906 - val_loss: 1.7047 - val_acc: 0.7392\n",
      "Epoch 3/50\n",
      " - 1s - loss: 1.5905 - acc: 0.7453 - val_loss: 1.4531 - val_acc: 0.7797\n",
      "Epoch 4/50\n",
      " - 1s - loss: 1.3648 - acc: 0.7763 - val_loss: 1.2475 - val_acc: 0.7989\n",
      "Epoch 5/50\n",
      " - 1s - loss: 1.1838 - acc: 0.7968 - val_loss: 1.0867 - val_acc: 0.8168\n",
      "Epoch 6/50\n",
      " - 1s - loss: 1.0435 - acc: 0.8110 - val_loss: 0.9637 - val_acc: 0.8247\n",
      "Epoch 7/50\n",
      " - 1s - loss: 0.9355 - acc: 0.8228 - val_loss: 0.8688 - val_acc: 0.8352\n",
      "Epoch 8/50\n",
      " - 1s - loss: 0.8517 - acc: 0.8314 - val_loss: 0.7944 - val_acc: 0.8442\n",
      "Epoch 9/50\n",
      " - 1s - loss: 0.7856 - acc: 0.8394 - val_loss: 0.7354 - val_acc: 0.8503\n",
      "Epoch 10/50\n",
      " - 1s - loss: 0.7326 - acc: 0.8452 - val_loss: 0.6879 - val_acc: 0.8545\n",
      "Epoch 11/50\n",
      " - 1s - loss: 0.6894 - acc: 0.8502 - val_loss: 0.6485 - val_acc: 0.8625\n",
      "Epoch 12/50\n",
      " - 1s - loss: 0.6534 - acc: 0.8544 - val_loss: 0.6158 - val_acc: 0.8653\n",
      "Epoch 13/50\n",
      " - 1s - loss: 0.6231 - acc: 0.8584 - val_loss: 0.5882 - val_acc: 0.8679\n",
      "Epoch 14/50\n",
      " - 1s - loss: 0.5973 - acc: 0.8613 - val_loss: 0.5644 - val_acc: 0.8707\n",
      "Epoch 15/50\n",
      " - 1s - loss: 0.5750 - acc: 0.8647 - val_loss: 0.5435 - val_acc: 0.8752\n",
      "Epoch 16/50\n",
      " - 1s - loss: 0.5555 - acc: 0.8675 - val_loss: 0.5257 - val_acc: 0.8755\n",
      "Epoch 17/50\n",
      " - 1s - loss: 0.5383 - acc: 0.8698 - val_loss: 0.5095 - val_acc: 0.8805\n",
      "Epoch 18/50\n",
      " - 1s - loss: 0.5232 - acc: 0.8717 - val_loss: 0.4953 - val_acc: 0.8814\n",
      "Epoch 19/50\n",
      " - 1s - loss: 0.5097 - acc: 0.8736 - val_loss: 0.4825 - val_acc: 0.8826\n",
      "Epoch 20/50\n",
      " - 1s - loss: 0.4975 - acc: 0.8754 - val_loss: 0.4712 - val_acc: 0.8845\n",
      "Epoch 21/50\n",
      " - 1s - loss: 0.4865 - acc: 0.8772 - val_loss: 0.4608 - val_acc: 0.8857\n",
      "Epoch 22/50\n",
      " - 1s - loss: 0.4766 - acc: 0.8784 - val_loss: 0.4516 - val_acc: 0.8862\n",
      "Epoch 23/50\n",
      " - 1s - loss: 0.4675 - acc: 0.8801 - val_loss: 0.4430 - val_acc: 0.8883\n",
      "Epoch 24/50\n",
      " - 1s - loss: 0.4592 - acc: 0.8820 - val_loss: 0.4354 - val_acc: 0.8891\n",
      "Epoch 25/50\n",
      " - 1s - loss: 0.4516 - acc: 0.8828 - val_loss: 0.4280 - val_acc: 0.8903\n",
      "Epoch 26/50\n",
      " - 1s - loss: 0.4445 - acc: 0.8845 - val_loss: 0.4216 - val_acc: 0.8914\n",
      "Epoch 27/50\n",
      " - 1s - loss: 0.4380 - acc: 0.8850 - val_loss: 0.4155 - val_acc: 0.8920\n",
      "Epoch 28/50\n",
      " - 1s - loss: 0.4320 - acc: 0.8859 - val_loss: 0.4098 - val_acc: 0.8935\n",
      "Epoch 29/50\n",
      " - 1s - loss: 0.4264 - acc: 0.8868 - val_loss: 0.4045 - val_acc: 0.8942\n",
      "Epoch 30/50\n",
      " - 1s - loss: 0.4211 - acc: 0.8880 - val_loss: 0.3997 - val_acc: 0.8955\n",
      "Epoch 31/50\n",
      " - 1s - loss: 0.4162 - acc: 0.8887 - val_loss: 0.3953 - val_acc: 0.8952\n",
      "Epoch 32/50\n",
      " - 1s - loss: 0.4116 - acc: 0.8893 - val_loss: 0.3905 - val_acc: 0.8964\n",
      "Epoch 33/50\n",
      " - 1s - loss: 0.4072 - acc: 0.8904 - val_loss: 0.3864 - val_acc: 0.8977\n",
      "Epoch 34/50\n",
      " - 1s - loss: 0.4032 - acc: 0.8910 - val_loss: 0.3827 - val_acc: 0.8980\n",
      "Epoch 35/50\n",
      " - 1s - loss: 0.3993 - acc: 0.8917 - val_loss: 0.3792 - val_acc: 0.8982\n",
      "Epoch 36/50\n",
      " - 1s - loss: 0.3957 - acc: 0.8922 - val_loss: 0.3759 - val_acc: 0.8993\n",
      "Epoch 37/50\n",
      " - 1s - loss: 0.3923 - acc: 0.8929 - val_loss: 0.3725 - val_acc: 0.8990\n",
      "Epoch 38/50\n",
      " - 1s - loss: 0.3890 - acc: 0.8937 - val_loss: 0.3695 - val_acc: 0.8992\n",
      "Epoch 39/50\n",
      " - 1s - loss: 0.3859 - acc: 0.8943 - val_loss: 0.3668 - val_acc: 0.9010\n",
      "Epoch 40/50\n",
      " - 1s - loss: 0.3829 - acc: 0.8950 - val_loss: 0.3638 - val_acc: 0.9010\n",
      "Epoch 41/50\n",
      " - 1s - loss: 0.3801 - acc: 0.8951 - val_loss: 0.3613 - val_acc: 0.9014\n",
      "Epoch 42/50\n",
      " - 1s - loss: 0.3774 - acc: 0.8955 - val_loss: 0.3586 - val_acc: 0.9016\n",
      "Epoch 43/50\n",
      " - 1s - loss: 0.3748 - acc: 0.8962 - val_loss: 0.3563 - val_acc: 0.9020\n",
      "Epoch 44/50\n",
      " - 1s - loss: 0.3724 - acc: 0.8968 - val_loss: 0.3541 - val_acc: 0.9023\n",
      "Epoch 45/50\n",
      " - 1s - loss: 0.3700 - acc: 0.8972 - val_loss: 0.3519 - val_acc: 0.9036\n",
      "Epoch 46/50\n",
      " - 1s - loss: 0.3678 - acc: 0.8975 - val_loss: 0.3496 - val_acc: 0.9034\n",
      "Epoch 47/50\n",
      " - 1s - loss: 0.3656 - acc: 0.8979 - val_loss: 0.3475 - val_acc: 0.9035\n",
      "Epoch 48/50\n",
      " - 1s - loss: 0.3635 - acc: 0.8984 - val_loss: 0.3458 - val_acc: 0.9040\n",
      "Epoch 49/50\n",
      " - 1s - loss: 0.3615 - acc: 0.8987 - val_loss: 0.3441 - val_acc: 0.9043\n",
      "Epoch 50/50\n",
      " - 1s - loss: 0.3596 - acc: 0.8992 - val_loss: 0.3421 - val_acc: 0.9045\n",
      "60000/60000 [==============================] - 1s 11us/step\n",
      "Train accuracy:  [0.35840239216486613, 0.8991]\n",
      "10000/10000 [==============================] - 0s 13us/step\n",
      "Test accuracy:  [0.3421438840866089, 0.9045]\n"
     ]
    }
   ],
   "source": [
    "model = Sequential()\n",
    "\n",
    "model.add(Dense(256, activation='sigmoid', input_dim=784, kernel_initializer='random_uniform'))\n",
    "model.add(Dense(10, activation='softmax'))\n",
    "from keras.optimizers import SGD\n",
    "model.compile(loss='categorical_crossentropy', optimizer=SGD(lr=0.001, momentum=0.9), metrics=['accuracy'])\n",
    "\n",
    "results = model.fit(x_train, y_train, epochs=50, batch_size=256, verbose=2, validation_data=(x_test, y_test))\n",
    "print(\"Train accuracy: \", model.evaluate(x_train, y_train, batch_size=128))\n",
    "print(\"Test accuracy: \", model.evaluate(x_test, y_test, batch_size=128))"
   ]
  },
  {
   "cell_type": "code",
   "execution_count": 6,
   "metadata": {},
   "outputs": [
    {
     "data": {
      "text/plain": [
       "<matplotlib.legend.Legend at 0x7ff2804fbeb8>"
      ]
     },
     "execution_count": 6,
     "metadata": {},
     "output_type": "execute_result"
    },
    {
     "data": {
      "image/png": "[encoded data removed]",
      "text/plain": [
       "<matplotlib.figure.Figure at 0x7ff29b3277b8>"
      ]
     },
     "metadata": {},
     "output_type": "display_data"
    }
   ],
   "source": [
    "plt.figure(1)\n",
    "plt.plot(results.history['loss'])\n",
    "plt.plot(results.history['val_loss'])\n",
    "plt.legend(['train loss', 'test loss'])"
   ]
  },
  {
   "cell_type": "markdown",
   "metadata": {},
   "source": [
    "### So what makes deep learning work?\n",
    "\n",
    "Careful initialization + appropriate activation functions + weight sharing / smart architectures + regularization\n",
    "\n",
    "Tips:\n",
    "1. Ensure that a good initialization scheme is used (e.g., Xavier, He, etc. )\n",
    "2. Use an activation function that does not lead to vanishing gradients (e.g., relu, prelu, elu, ...)\n",
    "3. Use a regularized network structure (e.g., CNNs, residual connection, ...)\n",
    "4. Use regularization (e.g., dropout) and/or batch normalization\n",
    "5. Use an advanced optimizer (e.g., Adam, RMSProp, ...) (use them with a grain of salt)"
   ]
  },
  {
   "cell_type": "markdown",
   "metadata": {},
   "source": [
    "Let's use some of these techniques!"
   ]
  },
  {
   "cell_type": "code",
   "execution_count": 9,
   "metadata": {},
   "outputs": [],
   "source": [
    "model = Sequential()\n",
    "\n",
    "model.add(Dense(256, activation='relu', input_dim=784, kernel_initializer=keras.initializers.he_uniform()))\n",
    "model.add(Dense(256, activation='relu', kernel_initializer=keras.initializers.he_uniform()))\n",
    "model.add(Dense(512, activation='relu', kernel_initializer=keras.initializers.he_uniform()))\n",
    "model.add(Dense(512, activation='relu', kernel_initializer=keras.initializers.he_uniform()))\n",
    "model.add(Dense(1024, activation='relu', kernel_initializer=keras.initializers.he_uniform()))\n",
    "model.add(Dense(1024, activation='relu', kernel_initializer=keras.initializers.he_uniform()))\n",
    "\n",
    "model.add(Dense(10, activation='softmax'))\n",
    "\n",
    "model.compile(loss='categorical_crossentropy', optimizer=Adam(lr=0.0001), metrics=['accuracy'])"
   ]
  },
  {
   "cell_type": "markdown",
   "metadata": {},
   "source": [
    "That is a deep one indeed! Let's examine its architecture!"
   ]
  },
  {
   "cell_type": "code",
   "execution_count": 10,
   "metadata": {},
   "outputs": [
    {
     "name": "stdout",
     "output_type": "stream",
     "text": [
      "_________________________________________________________________\n",
      "Layer (type)                 Output Shape              Param #   \n",
      "=================================================================\n",
      "dense_11 (Dense)             (None, 256)               200960    \n",
      "_________________________________________________________________\n",
      "dense_12 (Dense)             (None, 256)               65792     \n",
      "_________________________________________________________________\n",
      "dense_13 (Dense)             (None, 512)               131584    \n",
      "_________________________________________________________________\n",
      "dense_14 (Dense)             (None, 512)               262656    \n",
      "_________________________________________________________________\n",
      "dense_15 (Dense)             (None, 1024)              525312    \n",
      "_________________________________________________________________\n",
      "dense_16 (Dense)             (None, 1024)              1049600   \n",
      "_________________________________________________________________\n",
      "dense_17 (Dense)             (None, 10)                10250     \n",
      "=================================================================\n",
      "Total params: 2,246,154\n",
      "Trainable params: 2,246,154\n",
      "Non-trainable params: 0\n",
      "_________________________________________________________________\n"
     ]
    }
   ],
   "source": [
    "model.summary()"
   ]
  },
  {
   "cell_type": "markdown",
   "metadata": {},
   "source": [
    "Train the model:"
   ]
  },
  {
   "cell_type": "code",
   "execution_count": 11,
   "metadata": {},
   "outputs": [
    {
     "name": "stdout",
     "output_type": "stream",
     "text": [
      "Train on 60000 samples, validate on 10000 samples\n",
      "Epoch 1/50\n",
      " - 2s - loss: 0.4743 - acc: 0.8625 - val_loss: 0.2035 - val_acc: 0.9372\n",
      "Epoch 2/50\n",
      " - 2s - loss: 0.1604 - acc: 0.9515 - val_loss: 0.1391 - val_acc: 0.9579\n",
      "Epoch 3/50\n",
      " - 2s - loss: 0.1083 - acc: 0.9674 - val_loss: 0.1179 - val_acc: 0.9630\n",
      "Epoch 4/50\n",
      " - 2s - loss: 0.0778 - acc: 0.9768 - val_loss: 0.1084 - val_acc: 0.9658\n",
      "Epoch 5/50\n",
      " - 2s - loss: 0.0597 - acc: 0.9822 - val_loss: 0.0977 - val_acc: 0.9696\n",
      "Epoch 6/50\n",
      " - 2s - loss: 0.0435 - acc: 0.9872 - val_loss: 0.1005 - val_acc: 0.9692\n",
      "Epoch 7/50\n",
      " - 2s - loss: 0.0329 - acc: 0.9903 - val_loss: 0.0890 - val_acc: 0.9735\n",
      "Epoch 8/50\n",
      " - 2s - loss: 0.0251 - acc: 0.9933 - val_loss: 0.0924 - val_acc: 0.9733\n",
      "Epoch 9/50\n",
      " - 2s - loss: 0.0171 - acc: 0.9951 - val_loss: 0.1106 - val_acc: 0.9695\n",
      "Epoch 10/50\n",
      " - 2s - loss: 0.0148 - acc: 0.9957 - val_loss: 0.1010 - val_acc: 0.9734\n",
      "Epoch 11/50\n",
      " - 2s - loss: 0.0098 - acc: 0.9977 - val_loss: 0.1004 - val_acc: 0.9744\n",
      "Epoch 12/50\n",
      " - 2s - loss: 0.0061 - acc: 0.9989 - val_loss: 0.1019 - val_acc: 0.9747\n",
      "Epoch 13/50\n",
      " - 2s - loss: 0.0065 - acc: 0.9983 - val_loss: 0.1050 - val_acc: 0.9746\n",
      "Epoch 14/50\n",
      " - 2s - loss: 0.0044 - acc: 0.9991 - val_loss: 0.1005 - val_acc: 0.9779\n",
      "Epoch 15/50\n",
      " - 2s - loss: 0.0020 - acc: 0.9998 - val_loss: 0.1052 - val_acc: 0.9776\n",
      "Epoch 16/50\n",
      " - 2s - loss: 9.7788e-04 - acc: 1.0000 - val_loss: 0.1025 - val_acc: 0.9792\n",
      "Epoch 17/50\n",
      " - 2s - loss: 6.9260e-04 - acc: 1.0000 - val_loss: 0.1051 - val_acc: 0.9784\n",
      "Epoch 18/50\n",
      " - 2s - loss: 5.8667e-04 - acc: 1.0000 - val_loss: 0.1063 - val_acc: 0.9787\n",
      "Epoch 19/50\n",
      " - 2s - loss: 5.2577e-04 - acc: 1.0000 - val_loss: 0.1082 - val_acc: 0.9790\n",
      "Epoch 20/50\n",
      " - 2s - loss: 4.8678e-04 - acc: 1.0000 - val_loss: 0.1090 - val_acc: 0.9789\n",
      "Epoch 21/50\n",
      " - 2s - loss: 4.4349e-04 - acc: 1.0000 - val_loss: 0.1115 - val_acc: 0.9788\n",
      "Epoch 22/50\n",
      " - 2s - loss: 4.1627e-04 - acc: 1.0000 - val_loss: 0.1138 - val_acc: 0.9786\n",
      "Epoch 23/50\n",
      " - 2s - loss: 3.9496e-04 - acc: 1.0000 - val_loss: 0.1148 - val_acc: 0.9792\n",
      "Epoch 24/50\n",
      " - 2s - loss: 3.7685e-04 - acc: 1.0000 - val_loss: 0.1168 - val_acc: 0.9794\n",
      "Epoch 25/50\n",
      " - 2s - loss: 3.6052e-04 - acc: 1.0000 - val_loss: 0.1188 - val_acc: 0.9788\n",
      "Epoch 26/50\n",
      " - 2s - loss: 3.4804e-04 - acc: 1.0000 - val_loss: 0.1192 - val_acc: 0.9784\n",
      "Epoch 27/50\n",
      " - 2s - loss: 3.3576e-04 - acc: 1.0000 - val_loss: 0.1204 - val_acc: 0.9792\n",
      "Epoch 28/50\n",
      " - 2s - loss: 3.2720e-04 - acc: 1.0000 - val_loss: 0.1226 - val_acc: 0.9790\n",
      "Epoch 29/50\n",
      " - 2s - loss: 3.1884e-04 - acc: 1.0000 - val_loss: 0.1232 - val_acc: 0.9789\n",
      "Epoch 30/50\n",
      " - 2s - loss: 3.1205e-04 - acc: 1.0000 - val_loss: 0.1257 - val_acc: 0.9781\n",
      "Epoch 31/50\n",
      " - 2s - loss: 3.0511e-04 - acc: 1.0000 - val_loss: 0.1271 - val_acc: 0.9789\n",
      "Epoch 32/50\n",
      " - 2s - loss: 3.0142e-04 - acc: 1.0000 - val_loss: 0.1284 - val_acc: 0.9789\n",
      "Epoch 33/50\n",
      " - 2s - loss: 2.9627e-04 - acc: 1.0000 - val_loss: 0.1292 - val_acc: 0.9792\n",
      "Epoch 34/50\n",
      " - 2s - loss: 2.9204e-04 - acc: 1.0000 - val_loss: 0.1311 - val_acc: 0.9788\n",
      "Epoch 35/50\n",
      " - 2s - loss: 2.8899e-04 - acc: 1.0000 - val_loss: 0.1324 - val_acc: 0.9790\n",
      "Epoch 36/50\n",
      " - 2s - loss: 2.8626e-04 - acc: 1.0000 - val_loss: 0.1336 - val_acc: 0.9786\n",
      "Epoch 37/50\n",
      " - 2s - loss: 2.8378e-04 - acc: 1.0000 - val_loss: 0.1351 - val_acc: 0.9790\n",
      "Epoch 38/50\n",
      " - 2s - loss: 2.8197e-04 - acc: 1.0000 - val_loss: 0.1365 - val_acc: 0.9787\n",
      "Epoch 39/50\n",
      " - 2s - loss: 2.7998e-04 - acc: 1.0000 - val_loss: 0.1388 - val_acc: 0.9784\n",
      "Epoch 40/50\n",
      " - 2s - loss: 2.7845e-04 - acc: 1.0000 - val_loss: 0.1390 - val_acc: 0.9784\n",
      "Epoch 41/50\n",
      " - 2s - loss: 2.7717e-04 - acc: 1.0000 - val_loss: 0.1396 - val_acc: 0.9791\n",
      "Epoch 42/50\n",
      " - 2s - loss: 2.7616e-04 - acc: 1.0000 - val_loss: 0.1419 - val_acc: 0.9783\n",
      "Epoch 43/50\n",
      " - 2s - loss: 2.7503e-04 - acc: 1.0000 - val_loss: 0.1430 - val_acc: 0.9786\n",
      "Epoch 44/50\n",
      " - 2s - loss: 2.7414e-04 - acc: 1.0000 - val_loss: 0.1433 - val_acc: 0.9785\n",
      "Epoch 45/50\n",
      " - 2s - loss: 2.7346e-04 - acc: 1.0000 - val_loss: 0.1453 - val_acc: 0.9786\n",
      "Epoch 46/50\n",
      " - 2s - loss: 2.7288e-04 - acc: 1.0000 - val_loss: 0.1475 - val_acc: 0.9785\n",
      "Epoch 47/50\n",
      " - 2s - loss: 2.7235e-04 - acc: 1.0000 - val_loss: 0.1475 - val_acc: 0.9784\n",
      "Epoch 48/50\n",
      " - 2s - loss: 2.7186e-04 - acc: 1.0000 - val_loss: 0.1485 - val_acc: 0.9787\n",
      "Epoch 49/50\n",
      " - 2s - loss: 2.7146e-04 - acc: 1.0000 - val_loss: 0.1497 - val_acc: 0.9786\n",
      "Epoch 50/50\n",
      " - 2s - loss: 2.7110e-04 - acc: 1.0000 - val_loss: 0.1511 - val_acc: 0.9785\n"
     ]
    }
   ],
   "source": [
    "results = model.fit(x_train, y_train, epochs=50, batch_size=256, verbose=2, validation_data=(x_test, y_test))"
   ]
  },
  {
   "cell_type": "markdown",
   "metadata": {},
   "source": [
    "The network perfectly learns the training set (100% accuracy), but it is still below state-of-the-art (~1.9% test error). Let's examine the training curves:"
   ]
  },
  {
   "cell_type": "code",
   "execution_count": 12,
   "metadata": {},
   "outputs": [
    {
     "name": "stdout",
     "output_type": "stream",
     "text": [
      "Log data:  dict_keys(['val_loss', 'val_acc', 'loss', 'acc'])\n"
     ]
    },
    {
     "data": {
      "text/plain": [
       "<matplotlib.legend.Legend at 0x7ff0cf68ccf8>"
      ]
     },
     "execution_count": 12,
     "metadata": {},
     "output_type": "execute_result"
    },
    {
     "data": {
      "image/png": "[encoded data removed]",
      "text/plain": [
       "<matplotlib.figure.Figure at 0x7ff0cf6626a0>"
      ]
     },
     "metadata": {},
     "output_type": "display_data"
    },
    {
     "data": {
      "image/png": "[encoded data removed]",
      "text/plain": [
       "<matplotlib.figure.Figure at 0x7ff0cf657780>"
      ]
     },
     "metadata": {},
     "output_type": "display_data"
    }
   ],
   "source": [
    "print(\"Log data: \", results.history.keys())\n",
    "\n",
    "plt.figure(1)\n",
    "plt.plot(results.history['loss'])\n",
    "plt.plot(results.history['val_loss'])\n",
    "plt.legend(['train loss', 'test loss'])\n",
    "\n",
    "plt.figure(2)\n",
    "plt.plot(results.history['acc'])\n",
    "plt.plot(results.history['val_acc'])\n",
    "plt.legend(['train acc', ' acc'])"
   ]
  }
 ],
 "metadata": {
  "kernelspec": {
   "display_name": "Python 3",
   "language": "python",
   "name": "python3"
  },
  "language_info": {
   "codemirror_mode": {
    "name": "ipython",
    "version": 3
   },
   "file_extension": ".py",
   "mimetype": "text/x-python",
   "name": "python",
   "nbconvert_exporter": "python",
   "pygments_lexer": "ipython3",
   "version": "3.6.3"
  }
 },
 "nbformat": 4,
 "nbformat_minor": 2
}
