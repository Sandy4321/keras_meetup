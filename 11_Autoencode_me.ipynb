{
 "cells": [
  {
   "cell_type": "markdown",
   "metadata": {},
   "source": [
    "# Autoencode me\n",
    "\n",
    "Let's use a different architecture, an autoencoder!"
   ]
  },
  {
   "cell_type": "markdown",
   "metadata": {},
   "source": [
    "We will use the functional API to define the autoencoder!"
   ]
  },
  {
   "cell_type": "code",
   "execution_count": 1,
   "metadata": {},
   "outputs": [
    {
     "name": "stderr",
     "output_type": "stream",
     "text": [
      "/usr/local/lib/python3.6/dist-packages/h5py/__init__.py:36: FutureWarning: Conversion of the second argument of issubdtype from `float` to `np.floating` is deprecated. In future, it will be treated as `np.float64 == np.dtype(float).type`.\n",
      "  from ._conv import register_converters as _register_converters\n",
      "Using TensorFlow backend.\n"
     ]
    }
   ],
   "source": [
    "from keras.layers import Input, Dense\n",
    "from keras.models import Model\n",
    "\n",
    "ae_input = Input(shape=(784,))\n",
    "encoder_1 = Dense(256, activation='relu')(ae_input)\n",
    "encoder_2 = Dense(32, activation='relu')(encoder_1)\n",
    "\n",
    "\n",
    "decoder_2 = Dense(32, activation='relu')(encoder_2)\n",
    "decoder_1 = Dense(256, activation='relu')(decoder_2)\n",
    "ae_output = Dense(784, activation='sigmoid')(decoder_1)\n"
   ]
  },
  {
   "cell_type": "markdown",
   "metadata": {},
   "source": [
    "Build the model and a get a handler to extract the hidden representation (encoded_2). Note that the weights are shared between the two models!"
   ]
  },
  {
   "cell_type": "code",
   "execution_count": 5,
   "metadata": {},
   "outputs": [],
   "source": [
    "from keras.optimizers import Adam\n",
    "\n",
    "autoencoder = Model(ae_input, ae_output)\n",
    "encoder = Model(ae_input, encoder_2)\n",
    "autoencoder.compile(optimizer=Adam(lr=0.001), loss='binary_crossentropy')\n"
   ]
  },
  {
   "cell_type": "markdown",
   "metadata": {},
   "source": [
    "Get the data (as usual):"
   ]
  },
  {
   "cell_type": "code",
   "execution_count": 6,
   "metadata": {},
   "outputs": [],
   "source": [
    "import keras\n",
    "import numpy as np\n",
    "from keras.datasets import mnist\n",
    "\n",
    "# Prepare the data\n",
    "(x_train, y_train), (x_test, y_test) = mnist.load_data()\n",
    "x_train = x_train.reshape((-1, 28*28)) / 255.0\n",
    "x_test = x_test.reshape((-1, 28*28)) / 255.0\n"
   ]
  },
  {
   "cell_type": "markdown",
   "metadata": {},
   "source": [
    "Train the autoencoder!"
   ]
  },
  {
   "cell_type": "code",
   "execution_count": 7,
   "metadata": {},
   "outputs": [
    {
     "name": "stdout",
     "output_type": "stream",
     "text": [
      "Epoch 1/50\n",
      " - 2s - loss: 0.2188\n",
      "Epoch 2/50\n",
      " - 1s - loss: 0.1350\n",
      "Epoch 3/50\n",
      " - 1s - loss: 0.1197\n",
      "Epoch 4/50\n",
      " - 1s - loss: 0.1125\n",
      "Epoch 5/50\n",
      " - 1s - loss: 0.1072\n",
      "Epoch 6/50\n",
      " - 1s - loss: 0.1037\n",
      "Epoch 7/50\n",
      " - 1s - loss: 0.1013\n",
      "Epoch 8/50\n",
      " - 1s - loss: 0.0993\n",
      "Epoch 9/50\n",
      " - 1s - loss: 0.0974\n",
      "Epoch 10/50\n",
      " - 1s - loss: 0.0957\n",
      "Epoch 11/50\n",
      " - 1s - loss: 0.0943\n",
      "Epoch 12/50\n",
      " - 1s - loss: 0.0931\n",
      "Epoch 13/50\n",
      " - 1s - loss: 0.0921\n",
      "Epoch 14/50\n",
      " - 1s - loss: 0.0912\n",
      "Epoch 15/50\n",
      " - 1s - loss: 0.0905\n",
      "Epoch 16/50\n",
      " - 1s - loss: 0.0898\n",
      "Epoch 17/50\n",
      " - 1s - loss: 0.0891\n",
      "Epoch 18/50\n",
      " - 1s - loss: 0.0886\n",
      "Epoch 19/50\n",
      " - 1s - loss: 0.0880\n",
      "Epoch 20/50\n",
      " - 1s - loss: 0.0875\n",
      "Epoch 21/50\n",
      " - 1s - loss: 0.0871\n",
      "Epoch 22/50\n",
      " - 1s - loss: 0.0866\n",
      "Epoch 23/50\n",
      " - 1s - loss: 0.0862\n",
      "Epoch 24/50\n",
      " - 1s - loss: 0.0858\n",
      "Epoch 25/50\n",
      " - 1s - loss: 0.0854\n",
      "Epoch 26/50\n",
      " - 1s - loss: 0.0850\n",
      "Epoch 27/50\n",
      " - 1s - loss: 0.0847\n",
      "Epoch 28/50\n",
      " - 1s - loss: 0.0844\n",
      "Epoch 29/50\n",
      " - 1s - loss: 0.0842\n",
      "Epoch 30/50\n",
      " - 1s - loss: 0.0839\n",
      "Epoch 31/50\n",
      " - 1s - loss: 0.0837\n",
      "Epoch 32/50\n",
      " - 1s - loss: 0.0835\n",
      "Epoch 33/50\n",
      " - 1s - loss: 0.0833\n",
      "Epoch 34/50\n",
      " - 1s - loss: 0.0831\n",
      "Epoch 35/50\n",
      " - 1s - loss: 0.0829\n",
      "Epoch 36/50\n",
      " - 1s - loss: 0.0827\n",
      "Epoch 37/50\n",
      " - 1s - loss: 0.0825\n",
      "Epoch 38/50\n",
      " - 1s - loss: 0.0824\n",
      "Epoch 39/50\n",
      " - 1s - loss: 0.0821\n",
      "Epoch 40/50\n",
      " - 1s - loss: 0.0820\n",
      "Epoch 41/50\n",
      " - 1s - loss: 0.0818\n",
      "Epoch 42/50\n",
      " - 1s - loss: 0.0817\n",
      "Epoch 43/50\n",
      " - 1s - loss: 0.0815\n",
      "Epoch 44/50\n",
      " - 1s - loss: 0.0814\n",
      "Epoch 45/50\n",
      " - 1s - loss: 0.0813\n",
      "Epoch 46/50\n",
      " - 1s - loss: 0.0811\n",
      "Epoch 47/50\n",
      " - 1s - loss: 0.0810\n",
      "Epoch 48/50\n",
      " - 1s - loss: 0.0809\n",
      "Epoch 49/50\n",
      " - 1s - loss: 0.0808\n",
      "Epoch 50/50\n",
      " - 1s - loss: 0.0807\n"
     ]
    },
    {
     "data": {
      "text/plain": [
       "<keras.callbacks.History at 0x7fb9292bf630>"
      ]
     },
     "execution_count": 7,
     "metadata": {},
     "output_type": "execute_result"
    }
   ],
   "source": [
    "autoencoder.fit(x_train, x_train, epochs=50, batch_size=256, verbose=2)"
   ]
  },
  {
   "cell_type": "markdown",
   "metadata": {},
   "source": [
    "Let's evaluate the model by reconstructing some images!"
   ]
  },
  {
   "cell_type": "code",
   "execution_count": 8,
   "metadata": {},
   "outputs": [],
   "source": [
    "original_images = x_test[:10]\n",
    "reconstructed_images = autoencoder.predict(original_images).reshape((-1, 28, 28))\n",
    "original_images = original_images.reshape((-1, 28, 28))"
   ]
  },
  {
   "cell_type": "code",
   "execution_count": 9,
   "metadata": {},
   "outputs": [
    {
     "name": "stdout",
     "output_type": "stream",
     "text": [
      "Original Images:\n"
     ]
    },
    {
     "data": {
      "image/png": "[encoded data removed]",
      "text/plain": [
       "<matplotlib.figure.Figure at 0x7fb925da9ac8>"
      ]
     },
     "metadata": {},
     "output_type": "display_data"
    }
   ],
   "source": [
    "import numpy as np\n",
    "import matplotlib.pyplot as plt\n",
    "%matplotlib inline\n",
    "\n",
    "print(\"Original Images:\")\n",
    "plt.figure(1, figsize=(12, 8))\n",
    "for i in range(10):\n",
    "    ax = plt.subplot(1, 10, i+1)\n",
    "    plt.imshow(original_images[i], cmap='gray')\n",
    "    ax.get_xaxis().set_visible(False)\n",
    "    ax.get_yaxis().set_visible(False)"
   ]
  },
  {
   "cell_type": "code",
   "execution_count": 10,
   "metadata": {},
   "outputs": [
    {
     "name": "stdout",
     "output_type": "stream",
     "text": [
      "Reconstructed Images:\n"
     ]
    },
    {
     "data": {
      "image/png": "[encoded data removed]",
      "text/plain": [
       "<matplotlib.figure.Figure at 0x7fb925da9630>"
      ]
     },
     "metadata": {},
     "output_type": "display_data"
    }
   ],
   "source": [
    "print(\"Reconstructed Images:\")\n",
    "plt.figure(2, figsize=(12, 8))\n",
    "for i in range(10):\n",
    "    ax = plt.subplot(1, 10, i+1)\n",
    "    plt.imshow(reconstructed_images[i], cmap='gray')\n",
    "    ax.get_xaxis().set_visible(False)\n",
    "    ax.get_yaxis().set_visible(False)"
   ]
  },
  {
   "cell_type": "markdown",
   "metadata": {},
   "source": [
    "Pretty impressive, given that we compressed the data into just 32 dimensions (compression rate > 24). Note that the model performs a kind of smoothing/denoising."
   ]
  },
  {
   "cell_type": "markdown",
   "metadata": {},
   "source": [
    "We can further improve the \"denoising\" abilities of the model by adding noise during the training!"
   ]
  },
  {
   "cell_type": "code",
   "execution_count": 11,
   "metadata": {},
   "outputs": [
    {
     "name": "stdout",
     "output_type": "stream",
     "text": [
      "Epoch 1/50\n",
      " - 1s - loss: 0.1259\n",
      "Epoch 2/50\n",
      " - 1s - loss: 0.1096\n",
      "Epoch 3/50\n",
      " - 1s - loss: 0.1064\n",
      "Epoch 4/50\n",
      " - 1s - loss: 0.1046\n",
      "Epoch 5/50\n",
      " - 1s - loss: 0.1034\n",
      "Epoch 6/50\n",
      " - 1s - loss: 0.1024\n",
      "Epoch 7/50\n",
      " - 1s - loss: 0.1017\n",
      "Epoch 8/50\n",
      " - 1s - loss: 0.1011\n",
      "Epoch 9/50\n",
      " - 1s - loss: 0.1005\n",
      "Epoch 10/50\n",
      " - 1s - loss: 0.1001\n",
      "Epoch 11/50\n",
      " - 1s - loss: 0.0997\n",
      "Epoch 12/50\n",
      " - 1s - loss: 0.0994\n",
      "Epoch 13/50\n",
      " - 1s - loss: 0.0990\n",
      "Epoch 14/50\n",
      " - 1s - loss: 0.0987\n",
      "Epoch 15/50\n",
      " - 1s - loss: 0.0985\n",
      "Epoch 16/50\n",
      " - 1s - loss: 0.0982\n",
      "Epoch 17/50\n",
      " - 1s - loss: 0.0980\n",
      "Epoch 18/50\n",
      " - 1s - loss: 0.0978\n",
      "Epoch 19/50\n",
      " - 1s - loss: 0.0976\n",
      "Epoch 20/50\n",
      " - 1s - loss: 0.0974\n",
      "Epoch 21/50\n",
      " - 1s - loss: 0.0973\n",
      "Epoch 22/50\n",
      " - 1s - loss: 0.0971\n",
      "Epoch 23/50\n",
      " - 1s - loss: 0.0969\n",
      "Epoch 24/50\n",
      " - 1s - loss: 0.0968\n",
      "Epoch 25/50\n",
      " - 1s - loss: 0.0967\n",
      "Epoch 26/50\n",
      " - 1s - loss: 0.0966\n",
      "Epoch 27/50\n",
      " - 1s - loss: 0.0964\n",
      "Epoch 28/50\n",
      " - 1s - loss: 0.0963\n",
      "Epoch 29/50\n",
      " - 1s - loss: 0.0962\n",
      "Epoch 30/50\n",
      " - 1s - loss: 0.0961\n",
      "Epoch 31/50\n",
      " - 1s - loss: 0.0960\n",
      "Epoch 32/50\n",
      " - 1s - loss: 0.0959\n",
      "Epoch 33/50\n",
      " - 1s - loss: 0.0958\n",
      "Epoch 34/50\n",
      " - 1s - loss: 0.0958\n",
      "Epoch 35/50\n",
      " - 1s - loss: 0.0956\n",
      "Epoch 36/50\n",
      " - 1s - loss: 0.0956\n",
      "Epoch 37/50\n",
      " - 1s - loss: 0.0955\n",
      "Epoch 38/50\n",
      " - 1s - loss: 0.0954\n",
      "Epoch 39/50\n",
      " - 1s - loss: 0.0953\n",
      "Epoch 40/50\n",
      " - 1s - loss: 0.0953\n",
      "Epoch 41/50\n",
      " - 1s - loss: 0.0952\n",
      "Epoch 42/50\n",
      " - 1s - loss: 0.0951\n",
      "Epoch 43/50\n",
      " - 1s - loss: 0.0951\n",
      "Epoch 44/50\n",
      " - 1s - loss: 0.0950\n",
      "Epoch 45/50\n",
      " - 1s - loss: 0.0950\n",
      "Epoch 46/50\n",
      " - 1s - loss: 0.0949\n",
      "Epoch 47/50\n",
      " - 1s - loss: 0.0949\n",
      "Epoch 48/50\n",
      " - 1s - loss: 0.0948\n",
      "Epoch 49/50\n",
      " - 1s - loss: 0.0947\n",
      "Epoch 50/50\n",
      " - 1s - loss: 0.0947\n"
     ]
    },
    {
     "data": {
      "text/plain": [
       "<keras.callbacks.History at 0x7fb9292bf9b0>"
      ]
     },
     "execution_count": 11,
     "metadata": {},
     "output_type": "execute_result"
    }
   ],
   "source": [
    "autoencoder.fit(x_train + 0.4*np.random.randn(x_train.shape[0], 784), x_train, epochs=50, batch_size=256, verbose=2)"
   ]
  },
  {
   "cell_type": "markdown",
   "metadata": {},
   "source": [
    "Let's reconstruct some noisy images!"
   ]
  },
  {
   "cell_type": "code",
   "execution_count": 12,
   "metadata": {},
   "outputs": [],
   "source": [
    "original_images = x_test[:10] + 0.4*np.random.randn(10, 784)\n",
    "reconstructed_images = autoencoder.predict(original_images).reshape((-1, 28, 28))\n",
    "original_images = original_images.reshape((-1, 28, 28))"
   ]
  },
  {
   "cell_type": "code",
   "execution_count": 13,
   "metadata": {},
   "outputs": [
    {
     "name": "stdout",
     "output_type": "stream",
     "text": [
      "Noisy Images:\n"
     ]
    },
    {
     "data": {
      "image/png": "[encoded data removed]",
      "text/plain": [
       "<matplotlib.figure.Figure at 0x7fb7610ffdd8>"
      ]
     },
     "metadata": {},
     "output_type": "display_data"
    }
   ],
   "source": [
    "print(\"Noisy Images:\")\n",
    "plt.figure(1, figsize=(12, 8))\n",
    "for i in range(10):\n",
    "    ax = plt.subplot(1, 10, i+1)\n",
    "    plt.imshow(original_images[i], cmap='gray')\n",
    "    ax.get_xaxis().set_visible(False)\n",
    "    ax.get_yaxis().set_visible(False)"
   ]
  },
  {
   "cell_type": "code",
   "execution_count": 14,
   "metadata": {},
   "outputs": [
    {
     "name": "stdout",
     "output_type": "stream",
     "text": [
      "Reconstructed Images:\n"
     ]
    },
    {
     "data": {
      "image/png": "[encoded data removed]",
      "text/plain": [
       "<matplotlib.figure.Figure at 0x7fb760f05c88>"
      ]
     },
     "metadata": {},
     "output_type": "display_data"
    }
   ],
   "source": [
    "print(\"Reconstructed Images:\")\n",
    "plt.figure(2, figsize=(12, 8))\n",
    "for i in range(10):\n",
    "    ax = plt.subplot(1, 10, i+1)\n",
    "    plt.imshow(reconstructed_images[i], cmap='gray')\n",
    "    ax.get_xaxis().set_visible(False)\n",
    "    ax.get_yaxis().set_visible(False)"
   ]
  }
 ],
 "metadata": {
  "kernelspec": {
   "display_name": "Python 3",
   "language": "python",
   "name": "python3"
  },
  "language_info": {
   "codemirror_mode": {
    "name": "ipython",
    "version": 3
   },
   "file_extension": ".py",
   "mimetype": "text/x-python",
   "name": "python",
   "nbconvert_exporter": "python",
   "pygments_lexer": "ipython3",
   "version": "3.6.3"
  }
 },
 "nbformat": 4,
 "nbformat_minor": 2
}
