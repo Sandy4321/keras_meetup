{
 "cells": [
  {
   "cell_type": "markdown",
   "metadata": {},
   "source": [
    "# Getting Started with Keras!\n",
    "\n",
    "*aka boring stuff first...*\n",
    "\n",
    "In this tutorial we will demonstrate how to load a dataset, define a simple keras model and evaluate its performance!\n"
   ]
  },
  {
   "cell_type": "markdown",
   "metadata": {},
   "source": [
    "Let's start by loading the data! Keras provides an easy to use interface for several datasets, so we will use it to load the well-known MNIST dataset."
   ]
  },
  {
   "cell_type": "code",
   "execution_count": 1,
   "metadata": {},
   "outputs": [
    {
     "name": "stderr",
     "output_type": "stream",
     "text": [
      "/usr/local/lib/python3.6/dist-packages/h5py/__init__.py:36: FutureWarning: Conversion of the second argument of issubdtype from `float` to `np.floating` is deprecated. In future, it will be treated as `np.float64 == np.dtype(float).type`.\n",
      "  from ._conv import register_converters as _register_converters\n",
      "Using TensorFlow backend.\n"
     ]
    },
    {
     "name": "stdout",
     "output_type": "stream",
     "text": [
      "Train/test data shape: (60000, 28, 28) (10000, 28, 28)\n",
      "Train/test labels shape: (60000,) (10000,)\n"
     ]
    }
   ],
   "source": [
    "import keras\n",
    "from keras.datasets import mnist\n",
    "\n",
    "(x_train, y_train), (x_test, y_test) = mnist.load_data()\n",
    "\n",
    "print(\"Train/test data shape:\", x_train.shape, x_test.shape)\n",
    "print(\"Train/test labels shape:\", y_train.shape, y_test.shape)\n"
   ]
  },
  {
   "cell_type": "markdown",
   "metadata": {},
   "source": [
    "Verify that we indeed loaded the correct dataset :p"
   ]
  },
  {
   "cell_type": "code",
   "execution_count": 2,
   "metadata": {},
   "outputs": [
    {
     "data": {
      "image/png": "[encoded data removed]",
      "text/plain": [
       "<matplotlib.figure.Figure at 0x7f9b41e689b0>"
      ]
     },
     "metadata": {},
     "output_type": "display_data"
    },
    {
     "data": {
      "image/png": "[encoded data removed]",
      "text/plain": [
       "<matplotlib.figure.Figure at 0x7f9b3a9630f0>"
      ]
     },
     "metadata": {},
     "output_type": "display_data"
    },
    {
     "data": {
      "image/png": "[encoded data removed]",
      "text/plain": [
       "<matplotlib.figure.Figure at 0x7f9b3a921a58>"
      ]
     },
     "metadata": {},
     "output_type": "display_data"
    }
   ],
   "source": [
    "import numpy as np\n",
    "import matplotlib.pyplot as plt\n",
    "\n",
    "%matplotlib inline\n",
    "\n",
    "for i in range(3):\n",
    "    plt.figure(i)\n",
    "    plt.imshow(x_train[i], cmap='gray')\n",
    "    plt.title(\"Image: \" + str(i) + \" Label: \" + str(y_train[i]))\n",
    "\n"
   ]
  },
  {
   "cell_type": "markdown",
   "metadata": {},
   "source": [
    "Prepare the data (reshape into vectors and encode the labels as one-hot vectors):\n"
   ]
  },
  {
   "cell_type": "code",
   "execution_count": 3,
   "metadata": {},
   "outputs": [
    {
     "name": "stdout",
     "output_type": "stream",
     "text": [
      "Train/test data shape: (60000, 784) (10000, 784)\n",
      "Train/test labels shape: (60000, 10) (10000, 10)\n",
      "[0. 0. 0. 0. 0. 1. 0. 0. 0. 0.] 5\n",
      "[0. 0. 0. 0. 0. 1. 0. 0. 0. 0.] 0\n",
      "[0. 0. 0. 0. 0. 1. 0. 0. 0. 0.] 4\n"
     ]
    }
   ],
   "source": [
    "# Reshape and normalize the data\n",
    "x_train = x_train.reshape((-1, 28*28)) / 255.0\n",
    "x_test = x_test.reshape((-1, 28*28)) / 255.0\n",
    "\n",
    "# Encode the labels\n",
    "y_train = keras.utils.to_categorical(y_train, num_classes=10)\n",
    "y_test = keras.utils.to_categorical(y_test, num_classes=10)\n",
    "\n",
    "print(\"Train/test data shape:\", x_train.shape, x_test.shape)\n",
    "print(\"Train/test labels shape:\", y_train.shape, y_test.shape)\n",
    "print(y_train[0], np.argmax(y_train[0]))\n",
    "print(y_train[0], np.argmax(y_train[1]))\n",
    "print(y_train[0], np.argmax(y_train[2]))\n"
   ]
  },
  {
   "cell_type": "markdown",
   "metadata": {},
   "source": [
    "Define a simple Multilayer Perceptron (MLP):"
   ]
  },
  {
   "cell_type": "code",
   "execution_count": 4,
   "metadata": {},
   "outputs": [],
   "source": [
    "from keras.models import Sequential\n",
    "from keras.layers import Dense, Activation\n",
    "from keras.optimizers import Adam\n",
    "\n",
    "model = Sequential()\n",
    "\n",
    "# For the first layer we have to define the input dimensionality\n",
    "model.add(Dense(64, activation='relu', input_dim=784))\n",
    "# Add a second hidden layer\n",
    "model.add(Dense(256, activation='relu'))\n",
    "# Add an output layer (the number of neurons must match the number of classes)\n",
    "model.add(Dense(10, activation='softmax'))"
   ]
  },
  {
   "cell_type": "markdown",
   "metadata": {},
   "source": [
    "After defining the model we have to compile it!\n"
   ]
  },
  {
   "cell_type": "code",
   "execution_count": 5,
   "metadata": {},
   "outputs": [],
   "source": [
    "# Select an optimizer\n",
    "adam = Adam(lr=0.0001)\n",
    "# Select the loss function and metrics that should be monitored\n",
    "model.compile(loss='categorical_crossentropy',\n",
    "              optimizer=adam,\n",
    "              metrics=['accuracy'])"
   ]
  },
  {
   "cell_type": "markdown",
   "metadata": {},
   "source": [
    "We are now ready to train our model!!! \n",
    "\n",
    "*There are three different reporting levels: verbose=0 (no reporting), verbose=1 (progress bar), and verbose=2 (one line per epoch)*"
   ]
  },
  {
   "cell_type": "code",
   "execution_count": 6,
   "metadata": {},
   "outputs": [
    {
     "name": "stdout",
     "output_type": "stream",
     "text": [
      "Epoch 1/50\n",
      " - 3s - loss: 1.4504 - acc: 0.6185\n",
      "Epoch 2/50\n",
      " - 1s - loss: 0.4860 - acc: 0.8755\n",
      "Epoch 3/50\n",
      " - 1s - loss: 0.3433 - acc: 0.9051\n",
      "Epoch 4/50\n",
      " - 1s - loss: 0.2930 - acc: 0.9180\n",
      "Epoch 5/50\n",
      " - 1s - loss: 0.2635 - acc: 0.9260\n",
      "Epoch 6/50\n",
      " - 1s - loss: 0.2423 - acc: 0.9317\n",
      "Epoch 7/50\n",
      " - 1s - loss: 0.2257 - acc: 0.9361\n",
      "Epoch 8/50\n",
      " - 1s - loss: 0.2116 - acc: 0.9398\n",
      "Epoch 9/50\n",
      " - 1s - loss: 0.1996 - acc: 0.9429\n",
      "Epoch 10/50\n",
      " - 1s - loss: 0.1893 - acc: 0.9457\n",
      "Epoch 11/50\n",
      " - 1s - loss: 0.1800 - acc: 0.9485\n",
      "Epoch 12/50\n",
      " - 1s - loss: 0.1719 - acc: 0.9507\n",
      "Epoch 13/50\n",
      " - 1s - loss: 0.1640 - acc: 0.9525\n",
      "Epoch 14/50\n",
      " - 1s - loss: 0.1571 - acc: 0.9545\n",
      "Epoch 15/50\n",
      " - 1s - loss: 0.1504 - acc: 0.9567\n",
      "Epoch 16/50\n",
      " - 1s - loss: 0.1442 - acc: 0.9582\n",
      "Epoch 17/50\n",
      " - 1s - loss: 0.1386 - acc: 0.9602\n",
      "Epoch 18/50\n",
      " - 1s - loss: 0.1335 - acc: 0.9614\n",
      "Epoch 19/50\n",
      " - 1s - loss: 0.1287 - acc: 0.9635\n",
      "Epoch 20/50\n",
      " - 1s - loss: 0.1241 - acc: 0.9648\n",
      "Epoch 21/50\n",
      " - 1s - loss: 0.1199 - acc: 0.9655\n",
      "Epoch 22/50\n",
      " - 1s - loss: 0.1159 - acc: 0.9668\n",
      "Epoch 23/50\n",
      " - 1s - loss: 0.1120 - acc: 0.9679\n",
      "Epoch 24/50\n",
      " - 1s - loss: 0.1085 - acc: 0.9689\n",
      "Epoch 25/50\n",
      " - 1s - loss: 0.1049 - acc: 0.9700\n",
      "Epoch 26/50\n",
      " - 1s - loss: 0.1016 - acc: 0.9712\n",
      "Epoch 27/50\n",
      " - 1s - loss: 0.0986 - acc: 0.9716\n",
      "Epoch 28/50\n",
      " - 1s - loss: 0.0957 - acc: 0.9728\n",
      "Epoch 29/50\n",
      " - 1s - loss: 0.0930 - acc: 0.9733\n",
      "Epoch 30/50\n",
      " - 1s - loss: 0.0902 - acc: 0.9743\n",
      "Epoch 31/50\n",
      " - 1s - loss: 0.0877 - acc: 0.9746\n",
      "Epoch 32/50\n",
      " - 1s - loss: 0.0852 - acc: 0.9758\n",
      "Epoch 33/50\n",
      " - 1s - loss: 0.0830 - acc: 0.9763\n",
      "Epoch 34/50\n",
      " - 1s - loss: 0.0809 - acc: 0.9773\n",
      "Epoch 35/50\n",
      " - 1s - loss: 0.0785 - acc: 0.9776\n",
      "Epoch 36/50\n",
      " - 1s - loss: 0.0765 - acc: 0.9780\n",
      "Epoch 37/50\n",
      " - 1s - loss: 0.0745 - acc: 0.9787\n",
      "Epoch 38/50\n",
      " - 1s - loss: 0.0725 - acc: 0.9791\n",
      "Epoch 39/50\n",
      " - 1s - loss: 0.0707 - acc: 0.9799\n",
      "Epoch 40/50\n",
      " - 1s - loss: 0.0690 - acc: 0.9805\n",
      "Epoch 41/50\n",
      " - 1s - loss: 0.0670 - acc: 0.9810\n",
      "Epoch 42/50\n",
      " - 1s - loss: 0.0657 - acc: 0.9815\n",
      "Epoch 43/50\n",
      " - 1s - loss: 0.0641 - acc: 0.9816\n",
      "Epoch 44/50\n",
      " - 1s - loss: 0.0624 - acc: 0.9825\n",
      "Epoch 45/50\n",
      " - 1s - loss: 0.0609 - acc: 0.9832\n",
      "Epoch 46/50\n",
      " - 1s - loss: 0.0593 - acc: 0.9834\n",
      "Epoch 47/50\n",
      " - 1s - loss: 0.0582 - acc: 0.9838\n",
      "Epoch 48/50\n",
      " - 1s - loss: 0.0566 - acc: 0.9842\n",
      "Epoch 49/50\n",
      " - 1s - loss: 0.0553 - acc: 0.9845\n",
      "Epoch 50/50\n",
      " - 1s - loss: 0.0542 - acc: 0.9851\n"
     ]
    },
    {
     "data": {
      "text/plain": [
       "<keras.callbacks.History at 0x7f9b419ad4e0>"
      ]
     },
     "execution_count": 6,
     "metadata": {},
     "output_type": "execute_result"
    }
   ],
   "source": [
    "model.fit(x_train, y_train, epochs=50, batch_size=256, verbose=2)"
   ]
  },
  {
   "cell_type": "markdown",
   "metadata": {},
   "source": [
    "Let's see what we have got!"
   ]
  },
  {
   "cell_type": "code",
   "execution_count": 7,
   "metadata": {},
   "outputs": [
    {
     "name": "stdout",
     "output_type": "stream",
     "text": [
      "60000/60000 [==============================] - 1s 11us/step\n",
      "Train accuracy:  [0.05179381727178892, 0.9862166666348775]\n",
      "10000/10000 [==============================] - 0s 11us/step\n",
      "Test accuracy:  [0.0900672415688634, 0.9732]\n"
     ]
    }
   ],
   "source": [
    "print(\"Train accuracy: \", model.evaluate(x_train, y_train, batch_size=128))\n",
    "print(\"Test accuracy: \", model.evaluate(x_test, y_test, batch_size=128))"
   ]
  },
  {
   "cell_type": "markdown",
   "metadata": {},
   "source": [
    "Get the actual output of the network:"
   ]
  },
  {
   "cell_type": "code",
   "execution_count": 8,
   "metadata": {},
   "outputs": [
    {
     "name": "stdout",
     "output_type": "stream",
     "text": [
      "[1.2558805e-10 8.8598577e-09 8.4035634e-08 1.2635100e-01 4.1603683e-15\n",
      " 8.7364882e-01 4.0701568e-13 3.7940517e-08 3.0384270e-10 6.9850941e-08] 5\n"
     ]
    }
   ],
   "source": [
    "y_out = model.predict(x_train)\n",
    "print(y_out[0], np.argmax(y_out[0]))"
   ]
  },
  {
   "cell_type": "markdown",
   "metadata": {},
   "source": [
    "Examine the behavior of the network a bit more in depth:"
   ]
  },
  {
   "cell_type": "code",
   "execution_count": 9,
   "metadata": {},
   "outputs": [
    {
     "name": "stdout",
     "output_type": "stream",
     "text": [
      "Prediction order:  [5 3 2 9 7 1 8 0 6 4] True label:  5\n",
      "Prediction order:  [0 2 9 6 3 7 8 1 5 4] True label:  0\n",
      "Prediction order:  [4 7 2 9 3 6 8 5 1 0] True label:  4\n",
      "Prediction order:  [1 7 8 2 4 6 0 3 5 9] True label:  1\n",
      "Prediction order:  [9 4 5 8 7 3 0 1 2 6] True label:  9\n",
      "Prediction order:  [2 3 8 7 5 1 4 9 0 6] True label:  2\n",
      "Prediction order:  [1 3 4 8 2 7 9 5 6 0] True label:  1\n",
      "Prediction order:  [3 9 8 5 2 0 7 1 4 6] True label:  3\n",
      "Prediction order:  [1 7 3 4 8 5 9 2 6 0] True label:  1\n",
      "Prediction order:  [4 2 5 6 7 8 0 9 3 1] True label:  4\n"
     ]
    }
   ],
   "source": [
    "for i in range(10):\n",
    "    print(\"Prediction order: \", np.argsort(y_out[i])[::-1], \"True label: \", np.argmax(y_train[i]))"
   ]
  }
 ],
 "metadata": {
  "kernelspec": {
   "display_name": "Python 3",
   "language": "python",
   "name": "python3"
  },
  "language_info": {
   "codemirror_mode": {
    "name": "ipython",
    "version": 3
   },
   "file_extension": ".py",
   "mimetype": "text/x-python",
   "name": "python",
   "nbconvert_exporter": "python",
   "pygments_lexer": "ipython3",
   "version": "3.6.3"
  }
 },
 "nbformat": 4,
 "nbformat_minor": 2
}
